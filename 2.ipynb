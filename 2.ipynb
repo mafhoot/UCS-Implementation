{
 "cells": [
  {
   "cell_type": "code",
   "execution_count": 17,
   "metadata": {},
   "outputs": [],
   "source": [
    "import heapq"
   ]
  },
  {
   "cell_type": "code",
   "execution_count": 18,
   "metadata": {},
   "outputs": [],
   "source": [
    "graph = {\n",
    "    'A': {'B': 6, 'F': 3},\n",
    "    'B': {'A': 6, 'C': 3, 'D': 2},\n",
    "    'C': {'B': 3, 'D': 1, 'E': 5},\n",
    "    'D': {'B': 2, 'C': 1, 'E': 8},\n",
    "    'E': {'C': 5, 'D': 8, 'I': 5, 'J': 5},\n",
    "    'F': {'A': 3, 'G': 1, 'H': 7},\n",
    "    'G': {'F': 1, 'I': 3},\n",
    "    'H': {'F': 7, 'I': 2},\n",
    "    'I': {'G': 3, 'H': 2, 'J': 3},\n",
    "    'J': {'E': 5, 'I': 3}\n",
    "}\n"
   ]
  },
  {
   "cell_type": "code",
   "execution_count": 19,
   "metadata": {},
   "outputs": [],
   "source": [
    "def ucs(graph, start, goal):\n",
    "    # Create a priority queue to store nodes yet to be explored\n",
    "    open_list = [(0, start)]  # Tuple: (g value, node)\n",
    "    # Create a set to store nodes that have been explored\n",
    "    closed_set = set()\n",
    "    # Create a dictionary to store the parent of each node\n",
    "    parents = {}\n",
    "    # Create a dictionary to store the g values (actual cost from start to each node)\n",
    "    g_values = {node: float('inf') for node in graph}\n",
    "    # Initialize the g value of the start node to 0\n",
    "    g_values[start] = 0\n",
    "\n",
    "    while open_list:\n",
    "        # Pop the node with the lowest g value from the priority queue\n",
    "        g, current = heapq.heappop(open_list)\n",
    "\n",
    "        # Check if the goal node is reached\n",
    "        if current == goal:\n",
    "            break\n",
    "\n",
    "        # Check if the node has already been explored\n",
    "        if current in closed_set:\n",
    "            continue\n",
    "\n",
    "        # Add the current node to the explored set\n",
    "        closed_set.add(current)\n",
    "\n",
    "        # Explore the neighbors of the current node\n",
    "        for neighbor, cost in graph[current].items():\n",
    "            # Calculate the g value for the neighbor\n",
    "            g_neighbor = g + cost\n",
    "\n",
    "            # Check if the neighbor has not been explored or if a better path is found\n",
    "            if neighbor not in closed_set and g_neighbor < g_values[neighbor]:\n",
    "                # Update the g value and parent for the neighbor\n",
    "                g_values[neighbor] = g_neighbor\n",
    "                parents[neighbor] = current\n",
    "                # Add the neighbor to the priority queue\n",
    "                heapq.heappush(open_list, (g_neighbor, neighbor))\n",
    "\n",
    "        # Print the priority queue (open list) at each step\n",
    "        queue = [node for _, node in open_list]\n",
    "        print(f\"Step {len(closed_set)} - Frontier: {queue}\")\n",
    "\n",
    "    # Reconstruct the path from the start to the goal\n",
    "    path = []\n",
    "    node = goal\n",
    "    while node != start:\n",
    "        path.append(node)\n",
    "        node = parents[node]\n",
    "    path.append(start)\n",
    "    path.reverse()\n",
    "\n",
    "    return path, g_values"
   ]
  },
  {
   "cell_type": "code",
   "execution_count": 20,
   "metadata": {},
   "outputs": [
    {
     "name": "stdout",
     "output_type": "stream",
     "text": [
      "Step 1 - Frontier: ['F', 'B']\n",
      "Step 2 - Frontier: ['G', 'B', 'H']\n",
      "Step 3 - Frontier: ['B', 'H', 'I']\n",
      "Step 4 - Frontier: ['I', 'D', 'C', 'H']\n",
      "Step 5 - Frontier: ['D', 'H', 'C', 'H', 'J']\n",
      "Step 6 - Frontier: ['C', 'H', 'J', 'H', 'E']\n",
      "Step 7 - Frontier: ['H', 'H', 'J', 'E', 'E']\n",
      "Step 8 - Frontier: ['H', 'E', 'J', 'E']\n"
     ]
    }
   ],
   "source": [
    "start_node = 'A'\n",
    "goal_node = 'J'\n",
    "traversal_path, g_values = ucs(graph, start_node, goal_node)"
   ]
  },
  {
   "cell_type": "code",
   "execution_count": 21,
   "metadata": {},
   "outputs": [
    {
     "name": "stdout",
     "output_type": "stream",
     "text": [
      "A: 0\n",
      "B: 6\n",
      "C: 9\n",
      "D: 8\n",
      "E: 14\n",
      "F: 3\n",
      "G: 4\n",
      "H: 9\n",
      "I: 7\n",
      "J: 10\n"
     ]
    }
   ],
   "source": [
    "for node, value in g_values.items():\n",
    "    print(f\"{node}: {value}\")"
   ]
  },
  {
   "cell_type": "code",
   "execution_count": 22,
   "metadata": {},
   "outputs": [
    {
     "name": "stdout",
     "output_type": "stream",
     "text": [
      "Final Path: ['A', 'F', 'G', 'I', 'J']\n"
     ]
    }
   ],
   "source": [
    "print(\"Final Path:\", traversal_path)"
   ]
  }
 ],
 "metadata": {
  "kernelspec": {
   "display_name": "Python 3",
   "language": "python",
   "name": "python3"
  },
  "language_info": {
   "codemirror_mode": {
    "name": "ipython",
    "version": 3
   },
   "file_extension": ".py",
   "mimetype": "text/x-python",
   "name": "python",
   "nbconvert_exporter": "python",
   "pygments_lexer": "ipython3",
   "version": "3.10.7"
  },
  "orig_nbformat": 4
 },
 "nbformat": 4,
 "nbformat_minor": 2
}
